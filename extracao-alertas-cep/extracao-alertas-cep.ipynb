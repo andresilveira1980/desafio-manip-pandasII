{
 "cells": [
  {
   "cell_type": "code",
   "execution_count": 1,
   "metadata": {},
   "outputs": [],
   "source": [
    "import pandas as pd\n",
    "import requests\n",
    "from datetime import datetime\n",
    "from plyer import notification"
   ]
  },
  {
   "cell_type": "code",
   "execution_count": 14,
   "metadata": {},
   "outputs": [],
   "source": [
    "def extrair_cep(cep):\n",
    "    url = f\"https://brasilapi.com.br/api/cep/v1/{cep}\"\n",
    "    response = requests.get(url)\n",
    "\n",
    "    if response.status_code == 200:\n",
    "        data = response.json()\n",
    "        df = pd.DataFrame.from_dict(data, orient='index').T\n",
    "        return df\n",
    "        raise Exception(f\"Erro na requisição: {response.status_code} - {url}\\n{response.text}\")\n"
   ]
  },
  {
   "cell_type": "code",
   "execution_count": null,
   "metadata": {},
   "outputs": [],
   "source": [
    "def get_base_ceps(ceps):\n",
    "    df_ceps_full = pd.DataFrame()\n",
    "\n",
    "    for cep in ceps:\n",
    "        try:\n",
    "            df_cep = extrair_cep(cep)\n",
    "            \n",
    "            df_ceps_full = pd.concat([df_ceps_full, df_cep], ignore_index=True)\n",
    "        \n",
    "        except Exception as e:\n",
    "            print(f\"Erro ao consultar o CEP {cep}: {e}\")\n",
    "\n",
    "    return df_ceps_full\n"
   ]
  },
  {
   "cell_type": "code",
   "execution_count": 17,
   "metadata": {},
   "outputs": [
    {
     "name": "stdout",
     "output_type": "stream",
     "text": [
      "Consulta realizada com sucesso:\n",
      "        cep state       city          neighborhood              street  \\\n",
      "0  01001000    SP  São Paulo                    Sé         Praça da Sé   \n",
      "1  01002000    SP  São Paulo                    Sé         Rua Direita   \n",
      "2  99999999    PR    Sarandi  Jardim Centro Cívico  Avenida das Torres   \n",
      "\n",
      "    service  \n",
      "0  open-cep  \n",
      "1  open-cep  \n",
      "2  open-cep  \n"
     ]
    }
   ],
   "source": [
    "ceps = [\"01001000\", \"01002000\", \"99999999\"]  \n",
    "try:\n",
    "    base_ceps = get_base_ceps(ceps)\n",
    "    print(\"Consulta realizada com sucesso:\")\n",
    "    print(base_ceps)\n",
    "except Exception as e:\n",
    "    print(f\"Erro geral: {e}\")\n"
   ]
  },
  {
   "cell_type": "code",
   "execution_count": 18,
   "metadata": {},
   "outputs": [
    {
     "name": "stdout",
     "output_type": "stream",
     "text": [
      "Consulta realizada com sucesso:\n",
      "        cep state      city neighborhood           street   service\n",
      "0  40330120    BA  Salvador         IAPI  Avenida Galícia  open-cep\n"
     ]
    }
   ],
   "source": [
    "cep = \"40330120\"\n",
    "\n",
    "try:\n",
    "    resultado = extrair_cep(cep)\n",
    "    print(\"Consulta realizada com sucesso:\")\n",
    "    print(resultado)\n",
    "except Exception as e:\n",
    "    print(f\"Erro: {e}\")\n"
   ]
  },
  {
   "cell_type": "code",
   "execution_count": 22,
   "metadata": {},
   "outputs": [],
   "source": [
    "def extrair_cep(cep):\n",
    "    url = f\"https://brasilapi.com.br/api/cep/v1/{cep}\"\n",
    "    try:\n",
    "        response = requests.get(url)\n",
    "        response.raise_for_status()\n",
    "        data = response.json()\n",
    "        df = pd.DataFrame.from_dict(data, orient='index').T\n",
    "        return df\n",
    "    except requests.exceptions.HTTPError as e:\n",
    "        if response.status_code == 404:\n",
    "            errors = response.json().get(\"errors\", [])\n",
    "            for error in errors:\n",
    "                if error[\"message\"].startswith(\"CEP INVÁLIDO\"):\n",
    "                    alerta(1, \"Consulta CEP\", erro=\"CEP inválido fornecido pelo usuário.\")\n",
    "                elif error[\"message\"].startswith(\"CEP não encontrado\"):\n",
    "                    alerta(2, \"Consulta CEP\", erro=\"CEP válido, mas não encontrado em serviços externos.\")\n",
    "        elif response.status_code == 500:\n",
    "            alerta(3, \"Consulta CEP\", erro=\"Erro interno no serviço de terceiros.\")\n",
    "        else:\n",
    "            alerta(3, \"Consulta CEP\", erro=f\"Erro HTTP inesperado: {e}\")\n",
    "        return None\n",
    "    except requests.exceptions.RequestException as e:\n",
    "        alerta(3, \"Consulta CEP\", erro=f\"Erro de conexão: {e}\")\n",
    "        return None"
   ]
  }
 ],
 "metadata": {
  "kernelspec": {
   "display_name": "spacy-env",
   "language": "python",
   "name": "python3"
  },
  "language_info": {
   "codemirror_mode": {
    "name": "ipython",
    "version": 3
   },
   "file_extension": ".py",
   "mimetype": "text/x-python",
   "name": "python",
   "nbconvert_exporter": "python",
   "pygments_lexer": "ipython3",
   "version": "3.10.15"
  }
 },
 "nbformat": 4,
 "nbformat_minor": 2
}
